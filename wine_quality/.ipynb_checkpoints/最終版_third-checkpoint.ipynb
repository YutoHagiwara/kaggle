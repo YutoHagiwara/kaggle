{
 "cells": [
  {
   "cell_type": "code",
   "execution_count": 1,
   "metadata": {
    "collapsed": true
   },
   "outputs": [],
   "source": [
    "# 基本ライブラリのインポート\n",
    "import numpy as np\n",
    "import pandas as pd\n",
    "from pandas import Series, DataFrame\n",
    "import matplotlib.pyplot as plt\n",
    "%matplotlib inline"
   ]
  },
  {
   "cell_type": "code",
   "execution_count": 2,
   "metadata": {
    "collapsed": true
   },
   "outputs": [],
   "source": [
    "# データの読み込み\n",
    "df = pd.read_csv('train.csv')"
   ]
  },
  {
   "cell_type": "code",
   "execution_count": 3,
   "metadata": {
    "collapsed": true
   },
   "outputs": [],
   "source": [
    "# 説明変数と目的変数の分割\n",
    "X_raw = df.iloc[:,:11]\n",
    "y_raw = df.iloc[:,11]"
   ]
  },
  {
   "cell_type": "code",
   "execution_count": 4,
   "metadata": {
    "collapsed": true
   },
   "outputs": [],
   "source": [
    "# 説明変数の標準化\n",
    "from sklearn.preprocessing import StandardScaler\n",
    "ss_raw = StandardScaler()\n",
    "X_raw_std = ss_raw.fit_transform(X_raw)"
   ]
  },
  {
   "cell_type": "code",
   "execution_count": 5,
   "metadata": {
    "collapsed": true
   },
   "outputs": [],
   "source": [
    "# OneClassSVM\n",
    "from sklearn.svm import OneClassSVM\n",
    "ocsvm = OneClassSVM(nu=0.1, random_state=0)\n",
    "ocsvm.fit(X_raw_std)\n",
    "isnormal = ocsvm.predict(X_raw_std)\n",
    "isnormal = np.where(isnormal == 1, True, False)\n",
    "df2 = df[isnormal]"
   ]
  },
  {
   "cell_type": "code",
   "execution_count": 6,
   "metadata": {
    "collapsed": true
   },
   "outputs": [],
   "source": [
    "# 改めて説明変数と目的変数の分割\n",
    "X = df2.iloc[:,:11]\n",
    "y = df2.iloc[:,11]"
   ]
  },
  {
   "cell_type": "code",
   "execution_count": 7,
   "metadata": {
    "collapsed": true
   },
   "outputs": [],
   "source": [
    "# 説明変数の選択\n",
    "X_selected = X.loc[:,['volatile acidity', 'chlorides', 'free sulfur dioxide',\n",
    "             'total sulfur dioxide', 'pH', 'sulphates', 'alcohol']]"
   ]
  },
  {
   "cell_type": "code",
   "execution_count": 8,
   "metadata": {
    "collapsed": true
   },
   "outputs": [],
   "source": [
    "# 改めて説明変数の標準化\n",
    "ss = StandardScaler()\n",
    "X_std = ss.fit_transform(X_selected)"
   ]
  },
  {
   "cell_type": "code",
   "execution_count": 9,
   "metadata": {
    "collapsed": true
   },
   "outputs": [],
   "source": [
    "# ホールドアウト法\n",
    "from sklearn.model_selection import train_test_split\n",
    "X_train, X_test, y_train, y_test = train_test_split(X_std, y, test_size=0.2, random_state=0)"
   ]
  },
  {
   "cell_type": "code",
   "execution_count": null,
   "metadata": {
    "collapsed": true
   },
   "outputs": [],
   "source": []
  },
  {
   "cell_type": "code",
   "execution_count": null,
   "metadata": {
    "collapsed": true
   },
   "outputs": [],
   "source": []
  },
  {
   "cell_type": "code",
   "execution_count": null,
   "metadata": {
    "collapsed": true
   },
   "outputs": [],
   "source": []
  },
  {
   "cell_type": "code",
   "execution_count": null,
   "metadata": {
    "collapsed": true
   },
   "outputs": [],
   "source": []
  },
  {
   "cell_type": "code",
   "execution_count": null,
   "metadata": {
    "collapsed": true
   },
   "outputs": [],
   "source": []
  },
  {
   "cell_type": "code",
   "execution_count": 10,
   "metadata": {},
   "outputs": [
    {
     "data": {
      "text/plain": [
       "XGBRegressor(base_score=0.5, booster='gbtree', colsample_bylevel=1,\n",
       "       colsample_bytree=0.75, gamma=1, learning_rate=0.05,\n",
       "       max_delta_step=5, max_depth=10, min_child_weight=5, missing=None,\n",
       "       n_estimators=100, n_jobs=-1, nthread=None, objective='reg:linear',\n",
       "       random_state=0, reg_alpha=1, reg_lambda=1, scale_pos_weight=1,\n",
       "       seed=None, silent=True, subsample=0.75)"
      ]
     },
     "execution_count": 10,
     "metadata": {},
     "output_type": "execute_result"
    }
   ],
   "source": [
    "# XGBoost回帰モデルを学習\n",
    "from xgboost import XGBRegressor\n",
    "xgbr = XGBRegressor(base_score=0.5, booster='gbtree', colsample_bylevel=1,\n",
    "       colsample_bytree=0.75, gamma=1, learning_rate=0.05,\n",
    "       max_delta_step=5, max_depth=10, min_child_weight=5, missing=None,\n",
    "       n_estimators=100, n_jobs=-1, nthread=None, objective='reg:linear',\n",
    "       random_state=0, reg_alpha=1, reg_lambda=1, scale_pos_weight=1,\n",
    "       seed=None, silent=True, subsample=0.75)\n",
    "xgbr.fit(X_train, y_train)"
   ]
  },
  {
   "cell_type": "code",
   "execution_count": 11,
   "metadata": {
    "collapsed": true
   },
   "outputs": [],
   "source": [
    "# 正解ラベルを予測\n",
    "df_ans = pd.read_csv('test.csv')\n",
    "\n",
    "X_ans = df_ans.iloc[:,1:12]\n",
    "\n",
    "X_ans_selected = X_ans.loc[:,['volatile acidity', 'chlorides', 'free sulfur dioxide',\n",
    "             'total sulfur dioxide', 'pH', 'sulphates', 'alcohol']]\n",
    "\n",
    "X_ans_std = ss.transform(X_ans_selected)\n",
    "\n",
    "y_ans_pred = xgbr.predict(X_ans_std)\n",
    "\n",
    "y_ans_submission = pd.DataFrame(y_ans_pred)\n",
    "y_ans_submission = y_ans_submission.rename(columns={0: 'quality'})\n",
    "y_ans_submission.to_csv('submission.csv', index=False)"
   ]
  },
  {
   "cell_type": "code",
   "execution_count": null,
   "metadata": {
    "collapsed": true
   },
   "outputs": [],
   "source": []
  }
 ],
 "metadata": {
  "kernelspec": {
   "display_name": "Python 3",
   "language": "python",
   "name": "python3"
  },
  "language_info": {
   "codemirror_mode": {
    "name": "ipython",
    "version": 3
   },
   "file_extension": ".py",
   "mimetype": "text/x-python",
   "name": "python",
   "nbconvert_exporter": "python",
   "pygments_lexer": "ipython3",
   "version": "3.6.2"
  }
 },
 "nbformat": 4,
 "nbformat_minor": 2
}
