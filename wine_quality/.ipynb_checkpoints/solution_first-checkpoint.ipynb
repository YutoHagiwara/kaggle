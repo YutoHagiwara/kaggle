{
 "cells": [
  {
   "cell_type": "code",
   "execution_count": 1,
   "metadata": {
    "collapsed": true
   },
   "outputs": [],
   "source": [
    "# ライブラリimport\n",
    "import pandas as pd\n",
    "import numpy as np\n",
    "from xgboost.sklearn import XGBRegressor\n",
    "from sklearn.preprocessing import PolynomialFeatures, StandardScaler\n",
    "from sklearn.linear_model import Ridge\n",
    "from sklearn.pipeline import make_pipeline"
   ]
  },
  {
   "cell_type": "code",
   "execution_count": 2,
   "metadata": {
    "collapsed": true
   },
   "outputs": [],
   "source": [
    "# データ読み込み　重複データ削除\n",
    "df = pd.read_csv('../input/train.csv').drop_duplicates().reset_index(drop=True)\n",
    "df_test = pd.read_csv('../input/test.csv', index_col='id')\n",
    "\n",
    "cols = df.columns.drop('quality')\n",
    "target = 'quality'\n",
    "\n",
    "X = df[cols].values\n",
    "y = df[target].values\n",
    "X_ts = df_test[cols].values"
   ]
  },
  {
   "cell_type": "code",
   "execution_count": 3,
   "metadata": {
    "collapsed": true,
    "scrolled": true
   },
   "outputs": [],
   "source": [
    "# XGBによる予測\n",
    "\n",
    "# seed averaging 100回するため、入れ物を作っておく\n",
    "n_averaging = 100\n",
    "preds_xgb = np.zeros([len(df_test), n_averaging])\n",
    "\n",
    "# seed averaging\n",
    "for i in range(n_averaging):\n",
    "    xgb = XGBRegressor(base_score=0.5, booster='gbtree', colsample_bylevel=0.2,\n",
    "                       colsample_bytree=1, gamma=0, learning_rate=0.02, max_delta_step=0,\n",
    "                       max_depth=5, min_child_weight=1, missing=None, n_estimators=200,\n",
    "                       n_jobs=1, nthread=None, objective='reg:linear', random_state=i,\n",
    "                       reg_alpha=0.5, reg_lambda=0.5, scale_pos_weight=1, seed=i,# シードを毎回変える\n",
    "                       silent=True, subsample=0.9)\n",
    "    xgb.fit(X, y)\n",
    "    pred_xgb = xgb.predict(X_ts)\n",
    "    \n",
    "    # i回目のループでi列目に予測値を格納\n",
    "    preds_xgb[:, i] = pred_xgb\n",
    "\n",
    "pred_xgb = preds_xgb.mean(axis=1)# 予測値の平均を取る"
   ]
  },
  {
   "cell_type": "code",
   "execution_count": 4,
   "metadata": {
    "collapsed": true
   },
   "outputs": [],
   "source": [
    "# Ridgeによる予測\n",
    "\n",
    "# Ridgeの特徴量のレンジ?(大きさ？)が、ある程度そろってないと、正則化項がうまく働かないので、\n",
    "# 毎回スケーリングをするpipelineを作ってあげる\n",
    "RI = make_pipeline(StandardScaler(), Ridge())\n",
    "\n",
    "# 線形モデルでは最初の特徴量だけでは足りないので各交差項を変数に追加\n",
    "poly = PolynomialFeatures(2, interaction_only=False)# 2次の項まで追加\n",
    "X_poly = poly.fit_transform(X)\n",
    "X_poly_ts = poly.fit_transform(X_ts)\n",
    "\n",
    "RI.fit(X_poly, y)\n",
    "pred_ri = RI.predict(X_poly_ts)"
   ]
  },
  {
   "cell_type": "code",
   "execution_count": 5,
   "metadata": {
    "collapsed": true
   },
   "outputs": [],
   "source": [
    "# 線形モデルと非線形モデル(決定木)のアンサンブル\n",
    "pred_ensemble = (pred_ri + pred_xgb) / 2\n",
    "\n",
    "# 保存\n",
    "pd.DataFrame(pred_ensemble, columns=[target]).to_csv('../output/sub.csv', index=False)"
   ]
  }
 ],
 "metadata": {
  "kernelspec": {
   "display_name": "Python 3",
   "language": "python",
   "name": "python3"
  },
  "language_info": {
   "codemirror_mode": {
    "name": "ipython",
    "version": 3
   },
   "file_extension": ".py",
   "mimetype": "text/x-python",
   "name": "python",
   "nbconvert_exporter": "python",
   "pygments_lexer": "ipython3",
   "version": "3.6.2"
  }
 },
 "nbformat": 4,
 "nbformat_minor": 2
}
