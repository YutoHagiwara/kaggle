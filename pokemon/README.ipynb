{
 "cells": [
  {
   "cell_type": "markdown",
   "metadata": {},
   "source": [
    "# Pokemon コンペティション\n",
    "\n",
    "### コンペ概要\n",
    "ポケモンの能力値等を示すいくつかの変数からポケモンの対戦結果を予測するコンペです.\n",
    "(期間: ~ 5/28 23:59)\n",
    "\n",
    "### 配布データ\n",
    "- train.csv: 訓練用のデータです. `pokemon.csv`のidに対応しています．\n",
    "  - First_pokemon: ポケモンのid\n",
    "  - Second_pokemon: ポケモンのid\n",
    "  - Winner: 対戦で勝利したポケモンのid\n",
    "- test.csv: このファイルのデータに対して勝利するポケモンを予測してもらいます.\n",
    "- pokemon.csv: ポケモンの能力値のデータです． `#` カラムがidを表しています．\n",
    "\n",
    "### 提出物\n",
    "\n",
    "test.csvのデータに対して, `First_pokemon` が勝利する確率 `probability` を予測し, 以下のような形式のcsvファイル```submission.csv```を作成してiLect上で提出してください. ただし, 予測値は0以上1以下の値を出力してください.\n",
    "\n",
    "```\n",
    "id,probability\n",
    "0,0.5\n",
    "1,0.5\n",
    "...\n",
    "\n",
    "```\n",
    "\n",
    "注意点\n",
    "- 1行目はヘッダーです. 必ず```id,probability```と書いてください.\n",
    "- 2行目以降は, test.csvのデータの順番と対応させる形でidと予測値を各行に1つずつ出力してください. (idは昇順に並んでいます)\n",
    "- sample_submission.csvが提出形式のサンプルになので, こちらも参照してみてください.\n",
    "- **提出前にフォーマットが合っているか必ず確認してください**\n",
    "\n",
    "### 評価指標\n",
    "LogLossで評価します.\n",
    "データ数: N, 真の値: $y$, 予測値: $\\hat{y}$ とすると, LogLossは\n",
    "\n",
    "$$\n",
    "LogLoss = -\\frac{1}{N} \\sum_{i=1}^{N}y_i \\log(\\hat{y_i}) + (1 - y_i) \\log(1 - \\hat{y_i})\n",
    "$$\n",
    "\n",
    "で定義されます.\n",
    "\n",
    "### 賞金\n",
    "```\n",
    "1位: 15,000円\n",
    "2位: 10,000円\n",
    "3位: 5,000円\n",
    "```\n"
   ]
  },
  {
   "cell_type": "code",
   "execution_count": null,
   "metadata": {
    "collapsed": true
   },
   "outputs": [],
   "source": []
  }
 ],
 "metadata": {
  "kernelspec": {
   "display_name": "Python 3",
   "language": "python",
   "name": "python3"
  },
  "language_info": {
   "codemirror_mode": {
    "name": "ipython",
    "version": 3
   },
   "file_extension": ".py",
   "mimetype": "text/x-python",
   "name": "python",
   "nbconvert_exporter": "python",
   "pygments_lexer": "ipython3",
   "version": "3.6.2"
  }
 },
 "nbformat": 4,
 "nbformat_minor": 2
}
